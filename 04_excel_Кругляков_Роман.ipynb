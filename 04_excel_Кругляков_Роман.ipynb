{
 "cells": [
  {
   "cell_type": "markdown",
   "metadata": {},
   "source": [
    "# Работа с Excel"
   ]
  },
  {
   "cell_type": "markdown",
   "metadata": {},
   "source": [
    "Материалы:\n",
    "* Макрушин С.В. Лекция 7: Работа с Excel\n",
    "* https://docs.xlwings.org/en/stable/quickstart.html\n",
    "* https://nbviewer.jupyter.org/github/pybokeh/jupyter_notebooks/blob/master/xlwings/Excel_Formatting.ipynb#search_text\n"
   ]
  },
  {
   "cell_type": "markdown",
   "metadata": {},
   "source": [
    "## Лабораторная работа 4.1"
   ]
  },
  {
   "cell_type": "markdown",
   "metadata": {},
   "source": [
    "1. Загрузите данные из файлов `reviews_sample.csv` (__ЛР2__) и `recipes_sample.csv` (__ЛР5__) в виде `pd.DataFrame`. Обратите внимание на корректное считывание столбца(ов) с индексами. Оставьте в таблице с рецептами следующие столбцы: `id`, `name`, `minutes`, `submitted`, `description`, `n_ingredients`"
   ]
  },
  {
   "cell_type": "code",
   "execution_count": 39,
   "metadata": {},
   "outputs": [
    {
     "name": "stdout",
     "output_type": "stream",
     "text": [
      "            user_id  recipe_id        date  rating  \\\n",
      "370476        21752      57993  2003-05-01       5   \n",
      "624300       431813     142201  2007-09-16       5   \n",
      "187037       400708     252013  2008-01-10       4   \n",
      "706134   2001852463     404716  2017-12-11       5   \n",
      "312179        95810     129396  2008-03-14       5   \n",
      "...             ...        ...         ...     ...   \n",
      "1013457     1270706     335534  2009-05-17       4   \n",
      "158736      2282344       8701  2012-06-03       0   \n",
      "1059834      689540     222001  2008-04-08       5   \n",
      "453285   2000242659     354979  2015-06-02       5   \n",
      "691207       463435     415599  2010-09-30       5   \n",
      "\n",
      "                                                    review  \n",
      "370476   Last week whole sides of frozen salmon fillet ...  \n",
      "624300   So simple and so tasty!  I used a yellow capsi...  \n",
      "187037   Very nice breakfast HH, easy to make and yummy...  \n",
      "706134   These are a favorite for the holidays and so e...  \n",
      "312179   Excellent soup!  The tomato flavor is just gre...  \n",
      "...                                                    ...  \n",
      "1013457  This recipe was great! I made it last night. I...  \n",
      "158736   This recipe is outstanding. I followed the rec...  \n",
      "1059834  Well, we were not a crowd but it was a fabulou...  \n",
      "453285   I have been a steak eater and dedicated BBQ gr...  \n",
      "691207   Wonderful and simple to prepare seasoning blen...  \n",
      "\n",
      "[126696 rows x 5 columns]\n",
      "                                               name      id  minutes  \\\n",
      "0             george s at the cove  black bean soup   44123       90   \n",
      "1                healthy for them  yogurt popsicles   67664       10   \n",
      "2                      i can t believe it s spinach   38798       30   \n",
      "3                              italian  gut busters   35173       45   \n",
      "4          love is in the air  beef fondue   sauces   84797       25   \n",
      "...                                             ...     ...      ...   \n",
      "29995  zurie s holey rustic olive and cheddar bread  267661       80   \n",
      "29996          zwetschgenkuchen  bavarian plum cake  386977      240   \n",
      "29997   zwiebelkuchen   southwest german onion cake  103312       75   \n",
      "29998                                   zydeco soup  486161       60   \n",
      "29999        cookies by design   cookies on a stick  298512       29   \n",
      "\n",
      "        submitted                                        description  \\\n",
      "0      2002-10-25  an original recipe created by chef scott meska...   \n",
      "1      2003-07-26  my children and their friends ask for my homem...   \n",
      "2      2002-08-29            these were so go, it surprised even me.   \n",
      "3      2002-07-27  my sister-in-law made these for us at a family...   \n",
      "4      2004-02-23  i think a fondue is a very romantic casual din...   \n",
      "...           ...                                                ...   \n",
      "29995  2007-11-25  this is based on a french recipe but i changed...   \n",
      "29996  2009-08-24  this is a traditional fresh plum cake, thought...   \n",
      "29997  2004-11-03  this is a traditional late summer early fall s...   \n",
      "29998  2012-08-29  this is a delicious soup that i originally fou...   \n",
      "29999  2008-04-15  i've heard of the 'cookies by design' company,...   \n",
      "\n",
      "       n_ingredients  \n",
      "0               18.0  \n",
      "1                NaN  \n",
      "2                8.0  \n",
      "3                NaN  \n",
      "4                NaN  \n",
      "...              ...  \n",
      "29995           10.0  \n",
      "29996           11.0  \n",
      "29997            NaN  \n",
      "29998            NaN  \n",
      "29999           10.0  \n",
      "\n",
      "[30000 rows x 6 columns]\n"
     ]
    }
   ],
   "source": [
    "import numpy as np\n",
    "import pandas as pd\n",
    "\n",
    "reviews=pd.read_csv('reviews_sample.csv', delimiter=',', index_col=0)\n",
    "recipes=pd.read_csv('recipes_sample.csv', delimiter=',', usecols=['id', 'name', 'minutes', 'submitted', 'description', 'n_ingredients'])\n",
    "\n",
    "print(reviews)\n",
    "print(recipes)"
   ]
  },
  {
   "cell_type": "markdown",
   "metadata": {},
   "source": [
    "2. Случайным образом выберите 5% строк из каждой таблицы и сохраните две таблицы на разные листы в один файл `recipes.xlsx`. Дайте листам названия \"Рецепты\" и \"Отзывы\", соответствующие содержанию таблиц. "
   ]
  },
  {
   "cell_type": "code",
   "execution_count": 40,
   "metadata": {},
   "outputs": [],
   "source": [
    "reviews_sample = reviews.sample(frac=0.05)\n",
    "recipes_sample = recipes.sample(frac=0.05)\n",
    "\n",
    "with pd.ExcelWriter('recipes.xlsx') as writer:\n",
    "    recipes_sample.to_excel(writer, sheet_name='Рецепты', index=False)\n",
    "    reviews_sample.to_excel(writer, sheet_name='Отзывы', index=False)\n"
   ]
  },
  {
   "cell_type": "markdown",
   "metadata": {},
   "source": [
    "3. Используя `xlwings`, добавьте на лист `Рецепты` столбец `seconds_assign`, показывающий время выполнения рецепта в секундах. Выполните задание при помощи присваивания массива значений диапазону ячеек."
   ]
  },
  {
   "cell_type": "code",
   "execution_count": 41,
   "metadata": {},
   "outputs": [],
   "source": [
    "\n",
    "wb = xw.Book('recipes.xlsx')\n",
    "seconds_assign_column = recipes_sample[['minutes']] * 60\n",
    "seconds_assign_column.columns = ['seconds_assign']\n",
    "sh_arr = wb.sheets['Рецепты']\n",
    "sh_arr.range('H1').options(index=False).value = seconds_assign_column\n",
    "\n"
   ]
  },
  {
   "cell_type": "markdown",
   "metadata": {},
   "source": [
    "4. Используя `xlwings`, добавьте на лист `Рецепты` столбец `seconds_formula`, показывающий время выполнения рецепта в секундах. Выполните задание при помощи формул Excel."
   ]
  },
  {
   "cell_type": "code",
   "execution_count": 42,
   "metadata": {},
   "outputs": [],
   "source": [
    "fml = xw.Range('I2').formula = f'=D2*60'\n",
    "xw. Range(\"I2:I1501\").formula = fml\n",
    "sh_arr.range('I1').value = 'seconds_formula'"
   ]
  },
  {
   "cell_type": "markdown",
   "metadata": {},
   "source": [
    "5. Сделайте названия всех добавленных столбцов полужирными и выровняйте по центру ячейки."
   ]
  },
  {
   "cell_type": "code",
   "execution_count": 43,
   "metadata": {},
   "outputs": [],
   "source": [
    "\n",
    "sh_arr.range('H1:I1').api.Font.Bold = True\n",
    "sh_arr.range('H:I').api.HorizontalAlignment = -4108\n"
   ]
  },
  {
   "cell_type": "markdown",
   "metadata": {},
   "source": [
    "6. Раскрасьте ячейки столбца `minutes` в соответствии со следующим правилом: если рецепт выполняется быстрее 5 минут, то цвет - зеленый; от 5 до 10 минут - жёлтый; и больше 10 - красный."
   ]
  },
  {
   "cell_type": "code",
   "execution_count": 49,
   "metadata": {},
   "outputs": [],
   "source": [
    "for cell in sh_arr.range('C2:C1501'):\n",
    "    if cell.value < 5:\n",
    "        cell.color = (0, 255, 0)\n",
    "    elif cell.value > 10:\n",
    "        cell.color = (255, 0, 0)\n",
    "    else:\n",
    "        cell.color = (255, 255, 0)\n"
   ]
  },
  {
   "cell_type": "markdown",
   "metadata": {},
   "source": [
    "7. Добавьте на лист `Рецепты`  столбец `n_reviews`, содержащий кол-во отзывов для этого рецепта. Выполните задание при помощи формул Excel."
   ]
  },
  {
   "cell_type": "code",
   "execution_count": 52,
   "metadata": {},
   "outputs": [],
   "source": [
    "\n",
    "vlookup_formula = '=VLOOKUP(B2, Отзывы!B2:B1501, 2, FALSE)'\n",
    "sh_arr.range('J2').formula = vlookup_formula\n",
    "\n",
    "countif_formula = '=COUNTIF(Отзывы!B2:B1501, B2)'\n",
    "sh_arr.range('K2').formula = countif_formula\n",
    "\n",
    "sh_arr.range('J1').value = 'RecipeId'\n",
    "sh_arr.range('K1').value = 'n_reviews'\n",
    "sh_arr.range('J1:K1501').api.HorizontalAlignment = xw.constants.HAlign.xlHAlignCenter\n"
   ]
  },
  {
   "cell_type": "markdown",
   "metadata": {},
   "source": [
    "## Лабораторная работа 4.2"
   ]
  },
  {
   "cell_type": "markdown",
   "metadata": {},
   "source": [
    "8. Напишите функцию `validate()`, которая проверяет соответствие всех строк из листа `Отзывы` следующим правилам:\n",
    "    * Рейтинг - это число от 0 до 5 включительно\n",
    "    * Соответствующий рецепт имеется на листе `Рецепты`\n",
    "    \n",
    "В случае несоответствия этим правилам, выделите строку красным цветом"
   ]
  },
  {
   "cell_type": "markdown",
   "metadata": {},
   "source": [
    "9. В файле `recipes_model.csv` находится модель данных предметной области \"рецепты\". При помощи пакета `csv` считайте эти данные. При помощи пакета `xlwings` запишите данные на лист `Модель` книги `recipes_model.xlsx`, начиная с ячейки `A2`, не используя циклы. Сделайте скриншот текущего состояния листа и прикрепите в ячейку ноутбука. "
   ]
  },
  {
   "cell_type": "markdown",
   "metadata": {},
   "source": [
    "10. При помощи пакета `xlwings` добавьте в столбец J формулу для описания столбца на языке SQL. Формула должна реализовывать следующую логику:\n",
    "\n",
    "    1\\. в начале строки идут значения из столбцов В и C (значение столбца С приведено к верхнему регистру), разделенные пробелом\n",
    "    \n",
    "    2\\. далее идут слова на основе столбца \"Ключ\"\n",
    "        2.1 если в столбце \"Ключ\" указано значение \"PK\", то дальше через пробел идет ключевое слово \"PRIMARY KEY\"\n",
    "        2.2 если в столбце \"Ключ\" указано значение \"FK\", то дальше через пробел идет ключевое слово \"REFERENCES\", затем значения столбцов H и I в формате \"название_таблицы(название_столбца)\"\n",
    "        \n",
    "    3\\. если в столбце \"Обязательно к заполнению\" указано значение \"Y\" и в столбце \"Ключ\" указано не \"PK\", то дальше через пробел идет ключевое слово \"NOT NULL\".\n",
    "\n",
    "Заполните этой формулой необходимое количество строк, используя \"протягивание\". Количество строк для протягивания определите на основе данных.\n",
    "\n",
    "Сделайте скриншот текущего состояния листа и прикрепите в ячейку ноутбука."
   ]
  },
  {
   "cell_type": "markdown",
   "metadata": {},
   "source": [
    "11. При помощи пакета `xlwings` измените стилизацию листа `Модель`.\n",
    "* для заголовков добавьте заливку цвета `00ccff`\n",
    "* примените автоподбор ширины столбца;\n",
    "* сделайте шрифт заголовков полужирным;\n",
    "* добавьте таблице автофильтр.\n",
    "\n",
    "Сделайте скриншот текущего состояния листа и прикрепите в ячейку ноутбука."
   ]
  },
  {
   "cell_type": "markdown",
   "metadata": {},
   "source": [
    "12. Посчитайте количество атрибутов для каждой из сущностей. Создайте лист `Статистика` и запишите в него результат группировки, начиная с ячейки \"А1\". Визуализируйте полученный результат при помощи столбчатой диаграммы. Сохраните полученную визуализацию на лист `Статистика`, начиная с ячейки \"E2\".  Сделайте скриншот листа `Статистика` и прикрепите в ячейку ноутбука.\n",
    "\n",
    "* Вы можете воспользоваться методами для визуализации, которые поставляются вместе с объектами `pandas` (см. https://pandas.pydata.org/docs/reference/api/pandas.DataFrame.plot) "
   ]
  }
 ],
 "metadata": {
  "kernelspec": {
   "display_name": "Python 3 (ipykernel)",
   "language": "python",
   "name": "python3"
  },
  "language_info": {
   "codemirror_mode": {
    "name": "ipython",
    "version": 3
   },
   "file_extension": ".py",
   "mimetype": "text/x-python",
   "name": "python",
   "nbconvert_exporter": "python",
   "pygments_lexer": "ipython3",
   "version": "3.9.12"
  }
 },
 "nbformat": 4,
 "nbformat_minor": 4
}
