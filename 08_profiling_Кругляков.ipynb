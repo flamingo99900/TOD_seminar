{
 "cells": [
  {
   "cell_type": "markdown",
   "metadata": {},
   "source": [
    "## Оптимизация выполнения кода, векторизация, Numba"
   ]
  },
  {
   "cell_type": "markdown",
   "metadata": {},
   "source": [
    "Материалы:\n",
    "* Макрушин С.В. Лекция 3: Оптимизация выполнения кода, векторизация, Numba\n",
    "* IPython Cookbook, Second Edition (2018), глава 4\n",
    "* https://numba.pydata.org/numba-doc/latest/user/5minguide.html"
   ]
  },
  {
   "cell_type": "markdown",
   "metadata": {},
   "source": [
    "## Лабораторная работа 3"
   ]
  },
  {
   "cell_type": "markdown",
   "metadata": {},
   "source": [
    "1. В файлах `recipes_sample.csv` и `reviews_sample.csv` (__ЛР 2__) находится информация об рецептах блюд и отзывах на эти рецепты соответственно. Загрузите данные из файлов в виде `pd.DataFrame` с названиями `recipes` и `reviews`. Обратите внимание на корректное считывание столбца(ов) с индексами. Приведите столбцы к нужным типам.\n",
    "\n",
    "Реализуйте несколько вариантов функции подсчета среднего значения столбца `rating` из таблицы `reviews` для отзывов, оставленных в 2010 году.\n",
    "\n",
    "A. С использованием метода `DataFrame.iterrows` исходной таблицы;\n",
    "\n",
    "Б. С использованием метода `DataFrame.iterrows` таблицы, в которой сохранены только отзывы за 2010 год;\n",
    "\n",
    "В. С использованием метода `Series.mean`.\n",
    "\n",
    "Проверьте, что результаты работы всех написанных функций корректны и совпадают. Измерьте выполнения всех написанных функций.\n"
   ]
  },
  {
   "cell_type": "code",
   "execution_count": 19,
   "metadata": {},
   "outputs": [
    {
     "name": "stdout",
     "output_type": "stream",
     "text": [
      "4.4544402182900615 \n",
      "\n",
      "4.4544402182900615 \n",
      "\n",
      "4.4544402182900615 \n",
      "\n",
      "meanA: 4.4544402182900615, time: 3.409162759780884\n",
      "meanB: 4.4544402182900615, time: 0.32094454765319824\n",
      "meanC: 4.4544402182900615, time: 0.7417488098144531\n"
     ]
    }
   ],
   "source": [
    "import pandas as pd\n",
    "import time\n",
    "\n",
    "recipes = pd.read_csv('recipes_sample.csv', index_col=0, delimiter=',')\n",
    "reviews = pd.read_csv('reviews_sample.csv', index_col=0, delimiter=',')\n",
    "reviews['date'] = pd.to_datetime(reviews['date'])\n",
    "\n",
    "def meanA(reviews):\n",
    "    s = 0\n",
    "    c = 0\n",
    "    for index, row in reviews.iterrows():\n",
    "        if row['date'].year == 2010:\n",
    "            s += row['rating']\n",
    "            c += 1\n",
    "    return s / c\n",
    "\n",
    "def meanB(reviews):\n",
    "    s = 0\n",
    "    c = 0\n",
    "    for index, row in reviews.loc[reviews['date'].dt.year == 2010].iterrows():\n",
    "        s += row['rating']\n",
    "        c += 1\n",
    "    return s / c\n",
    "\n",
    "def meanC(reviews):\n",
    "    filtered = reviews.loc[reviews['date'].astype(str).str.contains('2010')]\n",
    "    return filtered['rating'].mean()\n",
    "\n",
    "print(meanA(reviews),'\\n')\n",
    "print(meanB(reviews),'\\n')\n",
    "print(meanC(reviews),'\\n')\n",
    "\n",
    "start_time = time.time()\n",
    "res1 = meanA(reviews)\n",
    "end_time = time.time()\n",
    "print(f'meanA: {res1}, time: {end_time - start_time}')\n",
    "\n",
    "start_time = time.time()\n",
    "res2 = meanB(reviews)\n",
    "end_time = time.time()\n",
    "print(f'meanB: {res2}, time: {end_time - start_time}')\n",
    "\n",
    "start_time = time.time()\n",
    "res3 = meanC(reviews)\n",
    "end_time = time.time()\n",
    "print(f'meanC: {res3}, time: {end_time - start_time}')"
   ]
  },
  {
   "cell_type": "code",
   "execution_count": 31,
   "metadata": {},
   "outputs": [],
   "source": [
    "# !pip install line_profiler\n",
    "# %load_ext line_profiler\n",
    "\n",
    "%lprun -f meanA meanB(reviews)\n",
    "\n",
    "def meanAB(reviews):\n",
    "    filtered_reviews = reviews[reviews['date'].dt.year == 2010]\n",
    "    count = len(filtered_reviews)\n",
    "    if count > 0:\n",
    "        return filtered_reviews['rating'].apply(lambda x: float(x)).sum() / count\n",
    "    else:\n",
    "        return None\n",
    "\n",
    "%lprun -f meanAB meanAB(reviews)"
   ]
  },
  {
   "cell_type": "markdown",
   "metadata": {},
   "source": [
    "3. Вам предлагается воспользоваться функцией, которая собирает статистику о том, сколько отзывов содержат то или иное слово. Измерьте время выполнения этой функции. Сможете ли вы найти узкие места в коде, используя профайлер? Выпишите (словами), что в имеющемся коде реализовано неоптимально. Оптимизируйте функцию и добейтесь значительного (как минимум, на один порядок) прироста в скорости выполнения."
   ]
  },
  {
   "cell_type": "code",
   "execution_count": 40,
   "metadata": {},
   "outputs": [
    {
     "name": "stdout",
     "output_type": "stream",
     "text": [
      "CPU times: total: 0 ns\n",
      "Wall time: 0 ns\n"
     ]
    }
   ],
   "source": [
    "%%time\n",
    "\n",
    "def get_word_reviews_count(df):\n",
    "    word_reviews = {}\n",
    "    for _, row in df.dropna(subset=['review']).iterrows():\n",
    "        recipe_id, review = row['recipe_id'], row['review']\n",
    "        words = review.split(' ')\n",
    "        for word in words:\n",
    "            if word not in word_reviews:\n",
    "                word_reviews[word] = []\n",
    "            word_reviews[word].append(recipe_id)\n",
    "    \n",
    "    word_reviews_count = {}\n",
    "    for _, row in df.dropna(subset=['review']).iterrows():\n",
    "        review = row['review']\n",
    "        words = review.split(' ')\n",
    "        for word in words:\n",
    "            word_reviews_count[word] = len(word_reviews[word])\n",
    "    return word_reviews_count"
   ]
  },
  {
   "cell_type": "code",
   "execution_count": 36,
   "metadata": {},
   "outputs": [],
   "source": [
    "%lprun -f get_word_reviews_count get_word_reviews_count(reviews)"
   ]
  },
  {
   "cell_type": "code",
   "execution_count": null,
   "metadata": {},
   "outputs": [],
   "source": []
  }
 ],
 "metadata": {
  "kernelspec": {
   "display_name": "Python 3 (ipykernel)",
   "language": "python",
   "name": "python3"
  },
  "language_info": {
   "codemirror_mode": {
    "name": "ipython",
    "version": 3
   },
   "file_extension": ".py",
   "mimetype": "text/x-python",
   "name": "python",
   "nbconvert_exporter": "python",
   "pygments_lexer": "ipython3",
   "version": "3.9.12"
  }
 },
 "nbformat": 4,
 "nbformat_minor": 4
}
